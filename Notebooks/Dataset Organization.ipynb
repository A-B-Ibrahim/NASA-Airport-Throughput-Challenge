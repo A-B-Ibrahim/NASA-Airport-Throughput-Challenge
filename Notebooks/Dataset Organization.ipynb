{
 "cells": [
  {
   "cell_type": "code",
   "execution_count": 1,
   "id": "93c9a2ec-e877-4b44-8822-275e0223ea74",
   "metadata": {},
   "outputs": [],
   "source": [
    "import pandas as pd\n",
    "import numpy as np\n",
    "import os"
   ]
  },
  {
   "cell_type": "code",
   "execution_count": 151,
   "id": "72e784c4-5079-4c44-97e3-8b31a5328a32",
   "metadata": {},
   "outputs": [],
   "source": [
    "def FUSAR_join(files, name):\n",
    "\n",
    "    configs_df = pd.read_csv(files.loc[files['FUSAR type'] == 'configs_data_set', 'CSV path'].item())\n",
    "    runways_df = pd.read_csv(files.loc[files['FUSAR type'] == 'runways_data_set', 'CSV path'].item())\n",
    "    first_position_df = pd.read_csv(files.loc[files['FUSAR type'] == 'first_position_data_set', 'CSV path'].item())\n",
    "    TBFM_df = pd.read_csv(files.loc[files['FUSAR type'] == 'TBFM_data_set', 'CSV path'].item())\n",
    "    TFM_track_df = pd.read_csv(files.loc[files['FUSAR type'] == 'TFM_track_data_set', 'CSV path'].item())\n",
    "    ETD_df = pd.read_csv(files.loc[files['FUSAR type'] == 'ETD_data_set', 'CSV path'].item())\n",
    "    LAMP_df = pd.read_csv(files.loc[files['FUSAR type'] == 'LAMP_data_set', 'CSV path'].item())\n",
    "    MFS_df = pd.read_csv(files.loc[files['FUSAR type'] == 'MFS_data_set', 'CSV path'].item())\n",
    "\n",
    "    combined_df = MFS_df.join(first_position_df.set_index('gufi'), on = 'gufi', lsuffix = '_MFS')\n",
    "    combined_df = combined_df.join(runways_df.set_index('gufi'), on = 'gufi', lsuffix = '_MFS')\n",
    "    combined_df = combined_df.join(TBFM_df.set_index('gufi'), on = 'gufi', lsuffix = '_MFS')\n",
    "    combined_df = combined_df.join(TFM_track_df.set_index('gufi'), on = 'gufi', lsuffix = '_MFS')\n",
    "    combined_df = combined_df.join(ETD_df.set_index('gufi'), on = 'gufi', lsuffix = '_MFS')\n",
    "    return combined_df"
   ]
  },
  {
   "cell_type": "code",
   "execution_count": null,
   "id": "2a003556-6d04-4183-b578-46df8b16719f",
   "metadata": {},
   "outputs": [],
   "source": [
    "#join FUSAR data together\n",
    "FUSAR_dir = r'E:\\Users\\Alex\\ENVS\\bitgrit Challenge\\DATA\\FUSAR\\Unzipped FUSAR Train'\n",
    "\n",
    "FUSAR_CSVs = os.listdir(FUSAR_dir)\n",
    "\n",
    "file_path = []\n",
    "for CSV in FUSAR_CSVs:\n",
    "    file_path.append(os.path.join(FUSAR_dir, CSV))\n",
    "                     \n",
    "Unsorted_FUSAR_df = pd.DataFrame({'Unsorted FUSAR':FUSAR_CSVs, 'CSV path':file_path})\n",
    "\n",
    "Unsorted_FUSAR_df['Aiport and Date'] = Unsorted_FUSAR_df['Unsorted FUSAR'].str.split('.',expand=True)[0]\n",
    "Unsorted_FUSAR_df['FUSAR type'] = Unsorted_FUSAR_df['Unsorted FUSAR'].str.split('.',expand=True)[1]\n",
    "\n",
    "# Unsorted_FUSAR_df.head(5)\n",
    "\n",
    "Unique_airport_dates = Unsorted_FUSAR_df['Aiport and Date'].unique()\n",
    "for airport_date in Unique_airport_dates:\n",
    "    temp_df = Unsorted_FUSAR_df.iloc[(np.where(Unsorted_FUSAR_df['Aiport and Date'] == airport_date))]\n",
    "    combined_df = FUSAR_join(temp_df, airport_date)\n",
    "    \n",
    "    break\n",
    "print(combined_df.shape)\n",
    "combined_df.head(5)  \n",
    "#set up 4 hour time blocks with TAF and METAR (one for each hour of each day)\n",
    "#sort FUSAR information into time blocks with time stamps \n"
   ]
  }
 ],
 "metadata": {
  "kernelspec": {
   "display_name": "Python 3 (ipykernel)",
   "language": "python",
   "name": "python3"
  },
  "language_info": {
   "codemirror_mode": {
    "name": "ipython",
    "version": 3
   },
   "file_extension": ".py",
   "mimetype": "text/x-python",
   "name": "python",
   "nbconvert_exporter": "python",
   "pygments_lexer": "ipython3",
   "version": "3.12.5"
  }
 },
 "nbformat": 4,
 "nbformat_minor": 5
}
